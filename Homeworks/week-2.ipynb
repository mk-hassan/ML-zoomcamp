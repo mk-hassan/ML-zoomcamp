{
 "cells": [
  {
   "cell_type": "code",
   "execution_count": 19,
   "id": "cb90b0c6",
   "metadata": {},
   "outputs": [],
   "source": [
    "import pandas as pd\n",
    "import numpy as np\n",
    "import matplotlib.pyplot as plt\n",
    "import seaborn as sns"
   ]
  },
  {
   "cell_type": "code",
   "execution_count": 20,
   "id": "6317fe6a",
   "metadata": {},
   "outputs": [],
   "source": [
    "data_url = 'https://raw.githubusercontent.com/alexeygrigorev/datasets/master/car_fuel_efficiency.csv'\n",
    "needed_columns = ['engine_displacement', 'horsepower', 'vehicle_weight', 'model_year', 'fuel_efficiency_mpg']"
   ]
  },
  {
   "cell_type": "code",
   "execution_count": 21,
   "id": "41321486",
   "metadata": {},
   "outputs": [],
   "source": [
    "df = pd.read_csv(data_url, usecols=needed_columns)"
   ]
  },
  {
   "cell_type": "code",
   "execution_count": 22,
   "id": "30414e73",
   "metadata": {},
   "outputs": [
    {
     "data": {
      "image/png": "[encoded data removed]",
      "text/plain": [
       "<Figure size 640x480 with 1 Axes>"
      ]
     },
     "metadata": {},
     "output_type": "display_data"
    }
   ],
   "source": [
    "sns.histplot(df.fuel_efficiency_mpg)\n",
    "plt.show()"
   ]
  },
  {
   "cell_type": "markdown",
   "id": "00d53020",
   "metadata": {},
   "source": [
    "## Q1: There's one column with missing values. What is it?"
   ]
  },
  {
   "cell_type": "code",
   "execution_count": 23,
   "id": "540f2746",
   "metadata": {},
   "outputs": [
    {
     "data": {
      "text/plain": [
       "'horsepower'"
      ]
     },
     "execution_count": 23,
     "metadata": {},
     "output_type": "execute_result"
    }
   ],
   "source": [
    "df.columns[df.isna().any()].values[0]"
   ]
  },
  {
   "cell_type": "markdown",
   "id": "c3c189ef",
   "metadata": {},
   "source": [
    "## Q2: What's the median (50% percentile) for variable 'horsepower'?"
   ]
  },
  {
   "cell_type": "code",
   "execution_count": 24,
   "id": "e68e09e4",
   "metadata": {},
   "outputs": [
    {
     "data": {
      "text/plain": [
       "149.0"
      ]
     },
     "execution_count": 24,
     "metadata": {},
     "output_type": "execute_result"
    }
   ],
   "source": [
    "float(df.horsepower.median())"
   ]
  },
  {
   "cell_type": "markdown",
   "id": "facb8b2b",
   "metadata": {},
   "source": [
    "## Prepare and split the dataset\n",
    "\n",
    "- Shuffle the dataset (the filtered one you created above), use seed 42.\n",
    "- Split your data in train/val/test sets, with 60%/20%/20% distribution."
   ]
  },
  {
   "cell_type": "code",
   "execution_count": 25,
   "id": "46d07956",
   "metadata": {},
   "outputs": [],
   "source": [
    "def train_validation_test_split(df, train_size=0.6, validation_size=0.2, test_size=0.2, random_state=42):\n",
    "\tdf_size = len(df)\n",
    "\t\n",
    "\tnp.random.seed(random_state)\n",
    "\tindex = np.arange(df_size)\n",
    "\tnp.random.shuffle(index)\n",
    "\t\n",
    "\tvalidation_size = int(validation_size * df_size)\n",
    "\ttest_size = int(test_size * df_size)\n",
    "\ttrain_size = df_size - validation_size - test_size\n",
    "\t\n",
    "\ttrain_indices = index[:train_size]\n",
    "\tvalidation_indices = index[train_size:train_size + validation_size]\n",
    "\ttest_indices = index[train_size + validation_size:]\n",
    "\t\n",
    "\tdf_train = df.iloc[train_indices].reset_index(drop=True)\n",
    "\tdf_validation = df.iloc[validation_indices].reset_index(drop=True)\n",
    "\tdf_test = df.iloc[test_indices].reset_index(drop=True)\n",
    "\t\n",
    "\treturn df_train, df_validation, df_test"
   ]
  },
  {
   "cell_type": "markdown",
   "id": "1cb25a75",
   "metadata": {},
   "source": [
    "## Linear Regression"
   ]
  },
  {
   "cell_type": "code",
   "execution_count": 26,
   "id": "d09e68cc",
   "metadata": {},
   "outputs": [],
   "source": [
    "def train_linear_regression_reg(X, y, r=0.001):\n",
    "    ones = np.ones(X.shape[0])\n",
    "    X = np.column_stack([ones, X])\n",
    "\n",
    "    XTX = X.T.dot(X)\n",
    "    XTX = XTX + r * np.eye(XTX.shape[0])\n",
    "\n",
    "    XTX_inv = np.linalg.inv(XTX)\n",
    "    w_full = XTX_inv.dot(X.T).dot(y)\n",
    "    \n",
    "    return w_full[0], w_full[1:]"
   ]
  },
  {
   "cell_type": "markdown",
   "id": "6089fa52",
   "metadata": {},
   "source": [
    "## Question 3\n",
    "- We need to deal with missing values for the column from Q1.\n",
    "- We have two options: fill it with 0 or with the mean of this variable.\n",
    "- Try both options. For each, train a linear regression model without regularization using the code from the lessons.\n",
    "- For computing the mean, use the training only!\n",
    "- Use the validation dataset to evaluate the models and compare the RMSE of each option.\n",
    "- Round the RMSE scores to 2 decimal digits using round(score, 2)\n",
    "- Which option gives better RMSE?"
   ]
  },
  {
   "cell_type": "code",
   "execution_count": 27,
   "id": "a40e4c29",
   "metadata": {},
   "outputs": [],
   "source": [
    "def fill_na_with(df, column, value=0.00):\n",
    "\tdf = df.copy()\n",
    "\n",
    "\tdf[column] = df[column].fillna(value)\n",
    "\treturn df\n",
    "\n",
    "def get_X_y(df):\n",
    "\tX = df.drop('fuel_efficiency_mpg', axis=1).values\n",
    "\ty = df['fuel_efficiency_mpg'].values\n",
    "\n",
    "\treturn X, y"
   ]
  },
  {
   "cell_type": "code",
   "execution_count": 28,
   "id": "3d8f6a96",
   "metadata": {},
   "outputs": [],
   "source": [
    "train_df_base, validation_df_base, test_df_base = train_validation_test_split(df)"
   ]
  },
  {
   "cell_type": "markdown",
   "id": "aec14af7",
   "metadata": {},
   "source": [
    "### Fill NaN values with zero"
   ]
  },
  {
   "cell_type": "code",
   "execution_count": 39,
   "id": "6db668ae",
   "metadata": {},
   "outputs": [],
   "source": [
    "tain_df = fill_na_with(train_df_base, 'horsepower')\n",
    "validation_df = fill_na_with(validation_df_base, 'horsepower')"
   ]
  },
  {
   "cell_type": "code",
   "execution_count": 40,
   "id": "42d588bd",
   "metadata": {},
   "outputs": [],
   "source": [
    "X_train, y_train = get_X_y(tain_df)\n",
    "X_validation, y_validation = get_X_y(validation_df)"
   ]
  },
  {
   "cell_type": "code",
   "execution_count": 41,
   "id": "007b9fd4",
   "metadata": {},
   "outputs": [],
   "source": [
    "w0, w = train_linear_regression_reg(X_train, y_train, r = 0.00)"
   ]
  },
  {
   "cell_type": "code",
   "execution_count": 42,
   "id": "1e3f0c7f",
   "metadata": {},
   "outputs": [],
   "source": [
    "y_pred = w0 + X_validation.dot(w)"
   ]
  },
  {
   "cell_type": "code",
   "execution_count": 45,
   "id": "4ab4d596",
   "metadata": {},
   "outputs": [
    {
     "data": {
      "text/plain": [
       "np.float64(0.5173782638844466)"
      ]
     },
     "execution_count": 45,
     "metadata": {},
     "output_type": "execute_result"
    }
   ],
   "source": [
    "# RMSE on validation\n",
    "np.sqrt(np.mean((y_validation - y_pred) ** 2))"
   ]
  },
  {
   "cell_type": "markdown",
   "id": "698e9a09",
   "metadata": {},
   "source": [
    "### Fill NaN values with mean value"
   ]
  },
  {
   "cell_type": "code",
   "execution_count": 46,
   "id": "0e91b970",
   "metadata": {},
   "outputs": [],
   "source": [
    "train_df = fill_na_with(train_df_base, 'horsepower', train_df_base.horsepower.mean())\n",
    "validation_df = fill_na_with(validation_df_base, 'horsepower', train_df_base.horsepower.mean())"
   ]
  },
  {
   "cell_type": "code",
   "execution_count": 47,
   "id": "f90ac8f0",
   "metadata": {},
   "outputs": [],
   "source": [
    "X_train, y_train = get_X_y(tain_df)\n",
    "X_validation, y_validation = get_X_y(validation_df)"
   ]
  },
  {
   "cell_type": "code",
   "execution_count": 48,
   "id": "c6a00579",
   "metadata": {},
   "outputs": [],
   "source": [
    "w0, w = train_linear_regression_reg(X_train, y_train, r = 0.00)"
   ]
  },
  {
   "cell_type": "code",
   "execution_count": 49,
   "id": "e77982d8",
   "metadata": {},
   "outputs": [],
   "source": [
    "y_pred = w0 + X_validation.dot(w)"
   ]
  },
  {
   "cell_type": "code",
   "execution_count": 50,
   "id": "bfd494ac",
   "metadata": {},
   "outputs": [
    {
     "data": {
      "text/plain": [
       "np.float64(0.5033809143376523)"
      ]
     },
     "execution_count": 50,
     "metadata": {},
     "output_type": "execute_result"
    }
   ],
   "source": [
    "# RMSE on validation\n",
    "np.sqrt(np.mean((y_validation - y_pred) ** 2))"
   ]
  },
  {
   "cell_type": "markdown",
   "id": "6d60d6b8",
   "metadata": {},
   "source": [
    "## Question 4\n",
    "- Now let's train a regularized linear regression.\n",
    "- For this question, fill the NAs with 0.\n",
    "- Try different values of r from this list: [0, 0.01, 0.1, 1, 5, 10, 100].\n",
    "- Use RMSE to evaluate the model on the validation dataset.\n",
    "- Round the RMSE scores to 2 decimal digits.\n",
    "- Which r gives the best RMSE?"
   ]
  },
  {
   "cell_type": "code",
   "execution_count": 51,
   "id": "1ef1b6ee",
   "metadata": {},
   "outputs": [],
   "source": [
    "tain_df = fill_na_with(train_df_base, 'horsepower')\n",
    "validation_df = fill_na_with(validation_df_base, 'horsepower')"
   ]
  },
  {
   "cell_type": "code",
   "execution_count": 52,
   "id": "2130a4b2",
   "metadata": {},
   "outputs": [],
   "source": [
    "X_train, y_train = get_X_y(tain_df)\n",
    "X_validation, y_validation = get_X_y(validation_df)"
   ]
  },
  {
   "cell_type": "code",
   "execution_count": 53,
   "id": "f87d98c0",
   "metadata": {},
   "outputs": [
    {
     "data": {
      "text/plain": [
       "(0.01, np.float64(0.5171115525769823))"
      ]
     },
     "execution_count": 53,
     "metadata": {},
     "output_type": "execute_result"
    }
   ],
   "source": [
    "# find the best regularization parameter\n",
    "data = []\n",
    "for r in [0, 0.01, 0.1, 1, 5, 10, 100]:\n",
    "\tw0, w = train_linear_regression_reg(X_train, y_train, r = r)\n",
    "\ty_pred = w0 + X_validation.dot(w)\n",
    "\trmse = np.sqrt(np.mean((y_validation - y_pred) ** 2))\n",
    "\tdata.append((r, rmse))\n",
    "\n",
    "best_r, best_rmse = min(data, key=lambda x: x[1])\n",
    "best_r, best_rmse"
   ]
  },
  {
   "cell_type": "markdown",
   "id": "d6df8d0e",
   "metadata": {},
   "source": [
    "## Question 5\n",
    "We used seed 42 for splitting the data. Let's find out how selecting the seed influences our score.\n",
    "- Try different seed values: [0, 1, 2, 3, 4, 5, 6, 7, 8, 9].\n",
    "- For each seed, do the train/validation/test split with 60%/20%/20% distribution.\n",
    "- Fill the missing values with 0 and train a model without regularization.\n",
    "- For each seed, evaluate the model on the validation dataset and collect the RMSE scores.\n",
    "- What's the standard deviation of all the scores? To compute the standard deviation, use np.std.\n",
    "- Round the result to 3 decimal digits (round(std, 3))"
   ]
  },
  {
   "cell_type": "code",
   "execution_count": 54,
   "id": "8f9df36a",
   "metadata": {},
   "outputs": [
    {
     "data": {
      "text/plain": [
       "np.float64(0.006989446426433706)"
      ]
     },
     "execution_count": 54,
     "metadata": {},
     "output_type": "execute_result"
    }
   ],
   "source": [
    "rmses = []\n",
    "\n",
    "for seed in [0, 1, 2, 3, 4, 5, 6, 7, 8, 9]:\n",
    "\ttrain_df_base, validation_df_base, test_df_base = train_validation_test_split(df, random_state=seed)\n",
    "\tassert validation_df_base.shape[0] == test_df_base.shape[0]\n",
    "\n",
    "\ttrain_df = fill_na_with(train_df_base, 'horsepower')\n",
    "\tvalidation_df = fill_na_with(validation_df_base, 'horsepower')\n",
    "\tX_train, y_train = get_X_y(train_df)\n",
    "\tX_validation, y_validation = get_X_y(validation_df)\n",
    "\tw0, w = train_linear_regression_reg(X_train, y_train, r = 0.00)\n",
    "\ty_pred = w0 + X_validation.dot(w)\n",
    "\trmse = np.sqrt(np.mean((y_validation - y_pred) ** 2))\n",
    "\trmses.append(rmse)\n",
    "\n",
    "np.std(rmses)"
   ]
  },
  {
   "cell_type": "markdown",
   "id": "6d2be9bd",
   "metadata": {},
   "source": [
    "## Question 6\n",
    "- Split the dataset like previously, use seed 9.\n",
    "- Combine train and validation datasets.\n",
    "- Fill the missing values with 0 and train a model with r=0.001.\n",
    "- What's the RMSE on the test dataset?"
   ]
  },
  {
   "cell_type": "code",
   "execution_count": 55,
   "id": "bb5e8480",
   "metadata": {},
   "outputs": [],
   "source": [
    "train_df_base, validation_df_base, test_df_base = train_validation_test_split(df, random_state=9)"
   ]
  },
  {
   "cell_type": "code",
   "execution_count": 56,
   "id": "0583fb87",
   "metadata": {},
   "outputs": [],
   "source": [
    "full_train_df = pd.concat([train_df_base, validation_df_base]).reset_index(drop=True)"
   ]
  },
  {
   "cell_type": "code",
   "execution_count": 57,
   "id": "72d6a300",
   "metadata": {},
   "outputs": [],
   "source": [
    "full_train_df.fillna(0, inplace=True)\n",
    "test_df = test_df_base.fillna(0)"
   ]
  },
  {
   "cell_type": "code",
   "execution_count": 58,
   "id": "944279f5",
   "metadata": {},
   "outputs": [],
   "source": [
    "X_full_train, y_full_train = get_X_y(full_train_df)"
   ]
  },
  {
   "cell_type": "code",
   "execution_count": 59,
   "id": "0927e050",
   "metadata": {},
   "outputs": [],
   "source": [
    "w0, w = train_linear_regression_reg(X_full_train, y_full_train, r = 0.001)"
   ]
  },
  {
   "cell_type": "code",
   "execution_count": 60,
   "id": "43967c59",
   "metadata": {},
   "outputs": [
    {
     "data": {
      "text/plain": [
       "np.float64(0.5156261299169602)"
      ]
     },
     "execution_count": 60,
     "metadata": {},
     "output_type": "execute_result"
    }
   ],
   "source": [
    "X_test, y_test = get_X_y(test_df)\n",
    "y_pred = w0 + X_test.dot(w)\n",
    "np.sqrt(np.mean((y_test - y_pred) ** 2))"
   ]
  },
  {
   "cell_type": "code",
   "execution_count": null,
   "id": "2616ea82",
   "metadata": {},
   "outputs": [],
   "source": []
  }
 ],
 "metadata": {
  "kernelspec": {
   "display_name": "ml-zoomcamp",
   "language": "python",
   "name": "python3"
  },
  "language_info": {
   "codemirror_mode": {
    "name": "ipython",
    "version": 3
   },
   "file_extension": ".py",
   "mimetype": "text/x-python",
   "name": "python",
   "nbconvert_exporter": "python",
   "pygments_lexer": "ipython3",
   "version": "3.11.7"
  }
 },
 "nbformat": 4,
 "nbformat_minor": 5
}
